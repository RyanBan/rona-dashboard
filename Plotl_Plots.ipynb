{
 "cells": [
  {
   "cell_type": "code",
   "execution_count": 7,
   "id": "requested-productivity",
   "metadata": {},
   "outputs": [
    {
     "data": {
      "application/vnd.plotly.v1+json": {
       "config": {
        "plotlyServerURL": "https://plot.ly"
       },
       "data": [
        {
         "geo": "geo",
         "hovertemplate": "Country_Region=%{location}<br>Confirmed=%{marker.color}<extra></extra>",
         "legendgroup": "",
         "locationmode": "country names",
         "locations": [
          "US",
          "India",
          "Brazil",
          "United Kingdom",
          "Russia",
          "France",
          "Spain",
          "Italy",
          "Turkey",
          "Germany",
          "Colombia",
          "Argentina",
          "Mexico",
          "Poland",
          "Iran",
          "South Africa",
          "Ukraine",
          "Peru",
          "Indonesia",
          "Czechia",
          "Netherlands",
          "Canada",
          "Portugal",
          "Chile",
          "Romania",
          "Belgium",
          "Israel",
          "Iraq",
          "Sweden",
          "Pakistan",
          "Philippines",
          "Bangladesh",
          "Switzerland",
          "Morocco",
          "Austria",
          "Serbia",
          "Japan",
          "Hungary",
          "Saudi Arabia",
          "Jordan",
          "United Arab Emirates",
          "Lebanon",
          "Panama",
          "Nepal",
          "Slovakia",
          "Georgia",
          "Belarus",
          "Ecuador",
          "Malaysia",
          "Kazakhstan",
          "Croatia",
          "Bolivia",
          "Azerbaijan",
          "Bulgaria",
          "Dominican Republic",
          "Tunisia",
          "Ireland",
          "Denmark",
          "Costa Rica",
          "Lithuania",
          "Slovenia",
          "Kuwait",
          "Egypt",
          "Greece",
          "Armenia",
          "Moldova",
          "West Bank and Gaza",
          "Guatemala",
          "Honduras",
          "Qatar",
          "Ethiopia",
          "Nigeria",
          "Paraguay",
          "Burma",
          "Oman",
          "Venezuela",
          "Libya",
          "Bosnia and Herzegovina",
          "Bahrain",
          "Algeria",
          "Kenya",
          "China",
          "North Macedonia",
          "Albania",
          "Kyrgyzstan",
          "Korea, South",
          "Uzbekistan",
          "Latvia",
          "Ghana",
          "Sri Lanka",
          "Montenegro",
          "Zambia",
          "Norway",
          "Kosovo",
          "Singapore",
          "El Salvador",
          "Afghanistan",
          "Luxembourg",
          "Estonia",
          "Finland",
          "Mozambique",
          "Uruguay",
          "Uganda",
          "Cuba",
          "Namibia",
          "Zimbabwe",
          "Cyprus",
          "Cameroon",
          "Cote d'Ivoire",
          "Sudan",
          "Senegal",
          "Australia",
          "Malawi",
          "Botswana",
          "Thailand",
          "Congo (Kinshasa)",
          "Angola",
          "Madagascar",
          "Malta",
          "Jamaica",
          "Maldives",
          "Rwanda",
          "Mauritania",
          "Eswatini",
          "Guinea",
          "Syria",
          "Cabo Verde",
          "Tajikistan",
          "Gabon",
          "Belize",
          "Haiti",
          "Burkina Faso",
          "Andorra",
          "Lesotho",
          "Suriname",
          "Congo (Brazzaville)",
          "Bahamas",
          "Mali",
          "Guyana",
          "Trinidad and Tobago",
          "Nicaragua",
          "Iceland",
          "Djibouti",
          "Togo",
          "Equatorial Guinea",
          "Somalia",
          "Central African Republic",
          "South Sudan",
          "Niger",
          "Benin",
          "Gambia",
          "Sierra Leone",
          "Chad",
          "Comoros",
          "San Marino",
          "Guinea-Bissau",
          "Liechtenstein",
          "Eritrea",
          "Saint Lucia",
          "New Zealand",
          "Mongolia",
          "Vietnam",
          "Yemen",
          "Liberia",
          "Barbados",
          "Burundi",
          "Seychelles",
          "Monaco",
          "Sao Tome and Principe",
          "Saint Vincent and the Grenadines",
          "Taiwan*",
          "Papua New Guinea",
          "Bhutan",
          "Diamond Princess",
          "Mauritius",
          "Tanzania",
          "Cambodia",
          "Antigua and Barbuda",
          "Brunei",
          "Grenada",
          "Dominica",
          "Timor-Leste",
          "Fiji",
          "Laos",
          "Saint Kitts and Nevis",
          "Holy See",
          "Solomon Islands",
          "MS Zaandam",
          "Marshall Islands",
          "Samoa",
          "Vanuatu",
          "Micronesia"
         ],
         "marker": {
          "color": [
           27392512,
           10880603,
           9713909,
           4010376,
           3983031,
           3465964,
           3041454,
           2683403,
           2564427,
           2321225,
           2179641,
           2008345,
           1968566,
           1570658,
           1496455,
           1484900,
           1302811,
           1203502,
           1191990,
           1064952,
           1031454,
           821932,
           778369,
           764307,
           755126,
           733100,
           714812,
           636908,
           604577,
           560363,
           543282,
           539531,
           539474,
           477160,
           429139,
           415943,
           412125,
           381875,
           371720,
           341984,
           339667,
           331159,
           330075,
           272430,
           271473,
           264158,
           263551,
           262213,
           254988,
           248566,
           236709,
           233854,
           231649,
           228044,
           226714,
           220478,
           206801,
           204052,
           198756,
           187991,
           177140,
           175031,
           171993,
           168872,
           168676,
           167546,
           165535,
           165532,
           158355,
           155901,
           144862,
           143516,
           141775,
           141522,
           136622,
           131828,
           126361,
           125123,
           110416,
           110049,
           102353,
           100527,
           96152,
           89776,
           85328,
           82837,
           79303,
           74701,
           73557,
           73116,
           67441,
           66598,
           65811,
           63089,
           59759,
           56653,
           55420,
           52392,
           50280,
           49165,
           47790,
           47254,
           39942,
           35772,
           35353,
           34864,
           32175,
           31394,
           30526,
           29933,
           29914,
           28887,
           28270,
           24926,
           24279,
           24026,
           20261,
           19360,
           19333,
           18237,
           17387,
           17068,
           16925,
           16396,
           14860,
           14724,
           14601,
           13308,
           12171,
           12114,
           11991,
           11426,
           10391,
           9819,
           8765,
           8354,
           8311,
           8218,
           8135,
           7632,
           6347,
           6026,
           5966,
           5687,
           5663,
           5013,
           4996,
           4960,
           4665,
           4560,
           4302,
           3813,
           3581,
           3276,
           3247,
           2848,
           2534,
           2429,
           2415,
           2326,
           2247,
           2140,
           2134,
           1956,
           1904,
           1771,
           1768,
           1735,
           1431,
           1370,
           936,
           914,
           861,
           712,
           595,
           509,
           479,
           381,
           183,
           148,
           121,
           100,
           56,
           45,
           40,
           27,
           18,
           9,
           4,
           2,
           1,
           1
          ],
          "coloraxis": "coloraxis",
          "symbol": "circle"
         },
         "mode": "markers",
         "name": "",
         "showlegend": false,
         "type": "scattergeo"
        }
       ],
       "layout": {
        "coloraxis": {
         "colorbar": {
          "title": {
           "text": "Confirmed"
          }
         },
         "colorscale": [
          [
           0,
           "#0d0887"
          ],
          [
           0.1111111111111111,
           "#46039f"
          ],
          [
           0.2222222222222222,
           "#7201a8"
          ],
          [
           0.3333333333333333,
           "#9c179e"
          ],
          [
           0.4444444444444444,
           "#bd3786"
          ],
          [
           0.5555555555555556,
           "#d8576b"
          ],
          [
           0.6666666666666666,
           "#ed7953"
          ],
          [
           0.7777777777777778,
           "#fb9f3a"
          ],
          [
           0.8888888888888888,
           "#fdca26"
          ],
          [
           1,
           "#f0f921"
          ]
         ]
        },
        "geo": {
         "center": {},
         "domain": {
          "x": [
           0,
           1
          ],
          "y": [
           0,
           1
          ]
         }
        },
        "legend": {
         "tracegroupgap": 0
        },
        "margin": {
         "t": 60
        },
        "template": {
         "data": {
          "bar": [
           {
            "error_x": {
             "color": "#2a3f5f"
            },
            "error_y": {
             "color": "#2a3f5f"
            },
            "marker": {
             "line": {
              "color": "#E5ECF6",
              "width": 0.5
             }
            },
            "type": "bar"
           }
          ],
          "barpolar": [
           {
            "marker": {
             "line": {
              "color": "#E5ECF6",
              "width": 0.5
             }
            },
            "type": "barpolar"
           }
          ],
          "carpet": [
           {
            "aaxis": {
             "endlinecolor": "#2a3f5f",
             "gridcolor": "white",
             "linecolor": "white",
             "minorgridcolor": "white",
             "startlinecolor": "#2a3f5f"
            },
            "baxis": {
             "endlinecolor": "#2a3f5f",
             "gridcolor": "white",
             "linecolor": "white",
             "minorgridcolor": "white",
             "startlinecolor": "#2a3f5f"
            },
            "type": "carpet"
           }
          ],
          "choropleth": [
           {
            "colorbar": {
             "outlinewidth": 0,
             "ticks": ""
            },
            "type": "choropleth"
           }
          ],
          "contour": [
           {
            "colorbar": {
             "outlinewidth": 0,
             "ticks": ""
            },
            "colorscale": [
             [
              0,
              "#0d0887"
             ],
             [
              0.1111111111111111,
              "#46039f"
             ],
             [
              0.2222222222222222,
              "#7201a8"
             ],
             [
              0.3333333333333333,
              "#9c179e"
             ],
             [
              0.4444444444444444,
              "#bd3786"
             ],
             [
              0.5555555555555556,
              "#d8576b"
             ],
             [
              0.6666666666666666,
              "#ed7953"
             ],
             [
              0.7777777777777778,
              "#fb9f3a"
             ],
             [
              0.8888888888888888,
              "#fdca26"
             ],
             [
              1,
              "#f0f921"
             ]
            ],
            "type": "contour"
           }
          ],
          "contourcarpet": [
           {
            "colorbar": {
             "outlinewidth": 0,
             "ticks": ""
            },
            "type": "contourcarpet"
           }
          ],
          "heatmap": [
           {
            "colorbar": {
             "outlinewidth": 0,
             "ticks": ""
            },
            "colorscale": [
             [
              0,
              "#0d0887"
             ],
             [
              0.1111111111111111,
              "#46039f"
             ],
             [
              0.2222222222222222,
              "#7201a8"
             ],
             [
              0.3333333333333333,
              "#9c179e"
             ],
             [
              0.4444444444444444,
              "#bd3786"
             ],
             [
              0.5555555555555556,
              "#d8576b"
             ],
             [
              0.6666666666666666,
              "#ed7953"
             ],
             [
              0.7777777777777778,
              "#fb9f3a"
             ],
             [
              0.8888888888888888,
              "#fdca26"
             ],
             [
              1,
              "#f0f921"
             ]
            ],
            "type": "heatmap"
           }
          ],
          "heatmapgl": [
           {
            "colorbar": {
             "outlinewidth": 0,
             "ticks": ""
            },
            "colorscale": [
             [
              0,
              "#0d0887"
             ],
             [
              0.1111111111111111,
              "#46039f"
             ],
             [
              0.2222222222222222,
              "#7201a8"
             ],
             [
              0.3333333333333333,
              "#9c179e"
             ],
             [
              0.4444444444444444,
              "#bd3786"
             ],
             [
              0.5555555555555556,
              "#d8576b"
             ],
             [
              0.6666666666666666,
              "#ed7953"
             ],
             [
              0.7777777777777778,
              "#fb9f3a"
             ],
             [
              0.8888888888888888,
              "#fdca26"
             ],
             [
              1,
              "#f0f921"
             ]
            ],
            "type": "heatmapgl"
           }
          ],
          "histogram": [
           {
            "marker": {
             "colorbar": {
              "outlinewidth": 0,
              "ticks": ""
             }
            },
            "type": "histogram"
           }
          ],
          "histogram2d": [
           {
            "colorbar": {
             "outlinewidth": 0,
             "ticks": ""
            },
            "colorscale": [
             [
              0,
              "#0d0887"
             ],
             [
              0.1111111111111111,
              "#46039f"
             ],
             [
              0.2222222222222222,
              "#7201a8"
             ],
             [
              0.3333333333333333,
              "#9c179e"
             ],
             [
              0.4444444444444444,
              "#bd3786"
             ],
             [
              0.5555555555555556,
              "#d8576b"
             ],
             [
              0.6666666666666666,
              "#ed7953"
             ],
             [
              0.7777777777777778,
              "#fb9f3a"
             ],
             [
              0.8888888888888888,
              "#fdca26"
             ],
             [
              1,
              "#f0f921"
             ]
            ],
            "type": "histogram2d"
           }
          ],
          "histogram2dcontour": [
           {
            "colorbar": {
             "outlinewidth": 0,
             "ticks": ""
            },
            "colorscale": [
             [
              0,
              "#0d0887"
             ],
             [
              0.1111111111111111,
              "#46039f"
             ],
             [
              0.2222222222222222,
              "#7201a8"
             ],
             [
              0.3333333333333333,
              "#9c179e"
             ],
             [
              0.4444444444444444,
              "#bd3786"
             ],
             [
              0.5555555555555556,
              "#d8576b"
             ],
             [
              0.6666666666666666,
              "#ed7953"
             ],
             [
              0.7777777777777778,
              "#fb9f3a"
             ],
             [
              0.8888888888888888,
              "#fdca26"
             ],
             [
              1,
              "#f0f921"
             ]
            ],
            "type": "histogram2dcontour"
           }
          ],
          "mesh3d": [
           {
            "colorbar": {
             "outlinewidth": 0,
             "ticks": ""
            },
            "type": "mesh3d"
           }
          ],
          "parcoords": [
           {
            "line": {
             "colorbar": {
              "outlinewidth": 0,
              "ticks": ""
             }
            },
            "type": "parcoords"
           }
          ],
          "pie": [
           {
            "automargin": true,
            "type": "pie"
           }
          ],
          "scatter": [
           {
            "marker": {
             "colorbar": {
              "outlinewidth": 0,
              "ticks": ""
             }
            },
            "type": "scatter"
           }
          ],
          "scatter3d": [
           {
            "line": {
             "colorbar": {
              "outlinewidth": 0,
              "ticks": ""
             }
            },
            "marker": {
             "colorbar": {
              "outlinewidth": 0,
              "ticks": ""
             }
            },
            "type": "scatter3d"
           }
          ],
          "scattercarpet": [
           {
            "marker": {
             "colorbar": {
              "outlinewidth": 0,
              "ticks": ""
             }
            },
            "type": "scattercarpet"
           }
          ],
          "scattergeo": [
           {
            "marker": {
             "colorbar": {
              "outlinewidth": 0,
              "ticks": ""
             }
            },
            "type": "scattergeo"
           }
          ],
          "scattergl": [
           {
            "marker": {
             "colorbar": {
              "outlinewidth": 0,
              "ticks": ""
             }
            },
            "type": "scattergl"
           }
          ],
          "scattermapbox": [
           {
            "marker": {
             "colorbar": {
              "outlinewidth": 0,
              "ticks": ""
             }
            },
            "type": "scattermapbox"
           }
          ],
          "scatterpolar": [
           {
            "marker": {
             "colorbar": {
              "outlinewidth": 0,
              "ticks": ""
             }
            },
            "type": "scatterpolar"
           }
          ],
          "scatterpolargl": [
           {
            "marker": {
             "colorbar": {
              "outlinewidth": 0,
              "ticks": ""
             }
            },
            "type": "scatterpolargl"
           }
          ],
          "scatterternary": [
           {
            "marker": {
             "colorbar": {
              "outlinewidth": 0,
              "ticks": ""
             }
            },
            "type": "scatterternary"
           }
          ],
          "surface": [
           {
            "colorbar": {
             "outlinewidth": 0,
             "ticks": ""
            },
            "colorscale": [
             [
              0,
              "#0d0887"
             ],
             [
              0.1111111111111111,
              "#46039f"
             ],
             [
              0.2222222222222222,
              "#7201a8"
             ],
             [
              0.3333333333333333,
              "#9c179e"
             ],
             [
              0.4444444444444444,
              "#bd3786"
             ],
             [
              0.5555555555555556,
              "#d8576b"
             ],
             [
              0.6666666666666666,
              "#ed7953"
             ],
             [
              0.7777777777777778,
              "#fb9f3a"
             ],
             [
              0.8888888888888888,
              "#fdca26"
             ],
             [
              1,
              "#f0f921"
             ]
            ],
            "type": "surface"
           }
          ],
          "table": [
           {
            "cells": {
             "fill": {
              "color": "#EBF0F8"
             },
             "line": {
              "color": "white"
             }
            },
            "header": {
             "fill": {
              "color": "#C8D4E3"
             },
             "line": {
              "color": "white"
             }
            },
            "type": "table"
           }
          ]
         },
         "layout": {
          "annotationdefaults": {
           "arrowcolor": "#2a3f5f",
           "arrowhead": 0,
           "arrowwidth": 1
          },
          "autotypenumbers": "strict",
          "coloraxis": {
           "colorbar": {
            "outlinewidth": 0,
            "ticks": ""
           }
          },
          "colorscale": {
           "diverging": [
            [
             0,
             "#8e0152"
            ],
            [
             0.1,
             "#c51b7d"
            ],
            [
             0.2,
             "#de77ae"
            ],
            [
             0.3,
             "#f1b6da"
            ],
            [
             0.4,
             "#fde0ef"
            ],
            [
             0.5,
             "#f7f7f7"
            ],
            [
             0.6,
             "#e6f5d0"
            ],
            [
             0.7,
             "#b8e186"
            ],
            [
             0.8,
             "#7fbc41"
            ],
            [
             0.9,
             "#4d9221"
            ],
            [
             1,
             "#276419"
            ]
           ],
           "sequential": [
            [
             0,
             "#0d0887"
            ],
            [
             0.1111111111111111,
             "#46039f"
            ],
            [
             0.2222222222222222,
             "#7201a8"
            ],
            [
             0.3333333333333333,
             "#9c179e"
            ],
            [
             0.4444444444444444,
             "#bd3786"
            ],
            [
             0.5555555555555556,
             "#d8576b"
            ],
            [
             0.6666666666666666,
             "#ed7953"
            ],
            [
             0.7777777777777778,
             "#fb9f3a"
            ],
            [
             0.8888888888888888,
             "#fdca26"
            ],
            [
             1,
             "#f0f921"
            ]
           ],
           "sequentialminus": [
            [
             0,
             "#0d0887"
            ],
            [
             0.1111111111111111,
             "#46039f"
            ],
            [
             0.2222222222222222,
             "#7201a8"
            ],
            [
             0.3333333333333333,
             "#9c179e"
            ],
            [
             0.4444444444444444,
             "#bd3786"
            ],
            [
             0.5555555555555556,
             "#d8576b"
            ],
            [
             0.6666666666666666,
             "#ed7953"
            ],
            [
             0.7777777777777778,
             "#fb9f3a"
            ],
            [
             0.8888888888888888,
             "#fdca26"
            ],
            [
             1,
             "#f0f921"
            ]
           ]
          },
          "colorway": [
           "#636efa",
           "#EF553B",
           "#00cc96",
           "#ab63fa",
           "#FFA15A",
           "#19d3f3",
           "#FF6692",
           "#B6E880",
           "#FF97FF",
           "#FECB52"
          ],
          "font": {
           "color": "#2a3f5f"
          },
          "geo": {
           "bgcolor": "white",
           "lakecolor": "white",
           "landcolor": "#E5ECF6",
           "showlakes": true,
           "showland": true,
           "subunitcolor": "white"
          },
          "hoverlabel": {
           "align": "left"
          },
          "hovermode": "closest",
          "mapbox": {
           "style": "light"
          },
          "paper_bgcolor": "white",
          "plot_bgcolor": "#E5ECF6",
          "polar": {
           "angularaxis": {
            "gridcolor": "white",
            "linecolor": "white",
            "ticks": ""
           },
           "bgcolor": "#E5ECF6",
           "radialaxis": {
            "gridcolor": "white",
            "linecolor": "white",
            "ticks": ""
           }
          },
          "scene": {
           "xaxis": {
            "backgroundcolor": "#E5ECF6",
            "gridcolor": "white",
            "gridwidth": 2,
            "linecolor": "white",
            "showbackground": true,
            "ticks": "",
            "zerolinecolor": "white"
           },
           "yaxis": {
            "backgroundcolor": "#E5ECF6",
            "gridcolor": "white",
            "gridwidth": 2,
            "linecolor": "white",
            "showbackground": true,
            "ticks": "",
            "zerolinecolor": "white"
           },
           "zaxis": {
            "backgroundcolor": "#E5ECF6",
            "gridcolor": "white",
            "gridwidth": 2,
            "linecolor": "white",
            "showbackground": true,
            "ticks": "",
            "zerolinecolor": "white"
           }
          },
          "shapedefaults": {
           "line": {
            "color": "#2a3f5f"
           }
          },
          "ternary": {
           "aaxis": {
            "gridcolor": "white",
            "linecolor": "white",
            "ticks": ""
           },
           "baxis": {
            "gridcolor": "white",
            "linecolor": "white",
            "ticks": ""
           },
           "bgcolor": "#E5ECF6",
           "caxis": {
            "gridcolor": "white",
            "linecolor": "white",
            "ticks": ""
           }
          },
          "title": {
           "x": 0.05
          },
          "xaxis": {
           "automargin": true,
           "gridcolor": "white",
           "linecolor": "white",
           "ticks": "",
           "title": {
            "standoff": 15
           },
           "zerolinecolor": "white",
           "zerolinewidth": 2
          },
          "yaxis": {
           "automargin": true,
           "gridcolor": "white",
           "linecolor": "white",
           "ticks": "",
           "title": {
            "standoff": 15
           },
           "zerolinecolor": "white",
           "zerolinewidth": 2
          }
         }
        }
       }
      },
      "text/html": [
       "<div>                            <div id=\"9c35f512-1d25-4bff-8ea0-fd36d55497a7\" class=\"plotly-graph-div\" style=\"height:525px; width:100%;\"></div>            <script type=\"text/javascript\">                require([\"plotly\"], function(Plotly) {                    window.PLOTLYENV=window.PLOTLYENV || {};                                    if (document.getElementById(\"9c35f512-1d25-4bff-8ea0-fd36d55497a7\")) {                    Plotly.newPlot(                        \"9c35f512-1d25-4bff-8ea0-fd36d55497a7\",                        [{\"geo\": \"geo\", \"hovertemplate\": \"Country_Region=%{location}<br>Confirmed=%{marker.color}<extra></extra>\", \"legendgroup\": \"\", \"locationmode\": \"country names\", \"locations\": [\"US\", \"India\", \"Brazil\", \"United Kingdom\", \"Russia\", \"France\", \"Spain\", \"Italy\", \"Turkey\", \"Germany\", \"Colombia\", \"Argentina\", \"Mexico\", \"Poland\", \"Iran\", \"South Africa\", \"Ukraine\", \"Peru\", \"Indonesia\", \"Czechia\", \"Netherlands\", \"Canada\", \"Portugal\", \"Chile\", \"Romania\", \"Belgium\", \"Israel\", \"Iraq\", \"Sweden\", \"Pakistan\", \"Philippines\", \"Bangladesh\", \"Switzerland\", \"Morocco\", \"Austria\", \"Serbia\", \"Japan\", \"Hungary\", \"Saudi Arabia\", \"Jordan\", \"United Arab Emirates\", \"Lebanon\", \"Panama\", \"Nepal\", \"Slovakia\", \"Georgia\", \"Belarus\", \"Ecuador\", \"Malaysia\", \"Kazakhstan\", \"Croatia\", \"Bolivia\", \"Azerbaijan\", \"Bulgaria\", \"Dominican Republic\", \"Tunisia\", \"Ireland\", \"Denmark\", \"Costa Rica\", \"Lithuania\", \"Slovenia\", \"Kuwait\", \"Egypt\", \"Greece\", \"Armenia\", \"Moldova\", \"West Bank and Gaza\", \"Guatemala\", \"Honduras\", \"Qatar\", \"Ethiopia\", \"Nigeria\", \"Paraguay\", \"Burma\", \"Oman\", \"Venezuela\", \"Libya\", \"Bosnia and Herzegovina\", \"Bahrain\", \"Algeria\", \"Kenya\", \"China\", \"North Macedonia\", \"Albania\", \"Kyrgyzstan\", \"Korea, South\", \"Uzbekistan\", \"Latvia\", \"Ghana\", \"Sri Lanka\", \"Montenegro\", \"Zambia\", \"Norway\", \"Kosovo\", \"Singapore\", \"El Salvador\", \"Afghanistan\", \"Luxembourg\", \"Estonia\", \"Finland\", \"Mozambique\", \"Uruguay\", \"Uganda\", \"Cuba\", \"Namibia\", \"Zimbabwe\", \"Cyprus\", \"Cameroon\", \"Cote d'Ivoire\", \"Sudan\", \"Senegal\", \"Australia\", \"Malawi\", \"Botswana\", \"Thailand\", \"Congo (Kinshasa)\", \"Angola\", \"Madagascar\", \"Malta\", \"Jamaica\", \"Maldives\", \"Rwanda\", \"Mauritania\", \"Eswatini\", \"Guinea\", \"Syria\", \"Cabo Verde\", \"Tajikistan\", \"Gabon\", \"Belize\", \"Haiti\", \"Burkina Faso\", \"Andorra\", \"Lesotho\", \"Suriname\", \"Congo (Brazzaville)\", \"Bahamas\", \"Mali\", \"Guyana\", \"Trinidad and Tobago\", \"Nicaragua\", \"Iceland\", \"Djibouti\", \"Togo\", \"Equatorial Guinea\", \"Somalia\", \"Central African Republic\", \"South Sudan\", \"Niger\", \"Benin\", \"Gambia\", \"Sierra Leone\", \"Chad\", \"Comoros\", \"San Marino\", \"Guinea-Bissau\", \"Liechtenstein\", \"Eritrea\", \"Saint Lucia\", \"New Zealand\", \"Mongolia\", \"Vietnam\", \"Yemen\", \"Liberia\", \"Barbados\", \"Burundi\", \"Seychelles\", \"Monaco\", \"Sao Tome and Principe\", \"Saint Vincent and the Grenadines\", \"Taiwan*\", \"Papua New Guinea\", \"Bhutan\", \"Diamond Princess\", \"Mauritius\", \"Tanzania\", \"Cambodia\", \"Antigua and Barbuda\", \"Brunei\", \"Grenada\", \"Dominica\", \"Timor-Leste\", \"Fiji\", \"Laos\", \"Saint Kitts and Nevis\", \"Holy See\", \"Solomon Islands\", \"MS Zaandam\", \"Marshall Islands\", \"Samoa\", \"Vanuatu\", \"Micronesia\"], \"marker\": {\"color\": [27392512, 10880603, 9713909, 4010376, 3983031, 3465964, 3041454, 2683403, 2564427, 2321225, 2179641, 2008345, 1968566, 1570658, 1496455, 1484900, 1302811, 1203502, 1191990, 1064952, 1031454, 821932, 778369, 764307, 755126, 733100, 714812, 636908, 604577, 560363, 543282, 539531, 539474, 477160, 429139, 415943, 412125, 381875, 371720, 341984, 339667, 331159, 330075, 272430, 271473, 264158, 263551, 262213, 254988, 248566, 236709, 233854, 231649, 228044, 226714, 220478, 206801, 204052, 198756, 187991, 177140, 175031, 171993, 168872, 168676, 167546, 165535, 165532, 158355, 155901, 144862, 143516, 141775, 141522, 136622, 131828, 126361, 125123, 110416, 110049, 102353, 100527, 96152, 89776, 85328, 82837, 79303, 74701, 73557, 73116, 67441, 66598, 65811, 63089, 59759, 56653, 55420, 52392, 50280, 49165, 47790, 47254, 39942, 35772, 35353, 34864, 32175, 31394, 30526, 29933, 29914, 28887, 28270, 24926, 24279, 24026, 20261, 19360, 19333, 18237, 17387, 17068, 16925, 16396, 14860, 14724, 14601, 13308, 12171, 12114, 11991, 11426, 10391, 9819, 8765, 8354, 8311, 8218, 8135, 7632, 6347, 6026, 5966, 5687, 5663, 5013, 4996, 4960, 4665, 4560, 4302, 3813, 3581, 3276, 3247, 2848, 2534, 2429, 2415, 2326, 2247, 2140, 2134, 1956, 1904, 1771, 1768, 1735, 1431, 1370, 936, 914, 861, 712, 595, 509, 479, 381, 183, 148, 121, 100, 56, 45, 40, 27, 18, 9, 4, 2, 1, 1], \"coloraxis\": \"coloraxis\", \"symbol\": \"circle\"}, \"mode\": \"markers\", \"name\": \"\", \"showlegend\": false, \"type\": \"scattergeo\"}],                        {\"coloraxis\": {\"colorbar\": {\"title\": {\"text\": \"Confirmed\"}}, \"colorscale\": [[0.0, \"#0d0887\"], [0.1111111111111111, \"#46039f\"], [0.2222222222222222, \"#7201a8\"], [0.3333333333333333, \"#9c179e\"], [0.4444444444444444, \"#bd3786\"], [0.5555555555555556, \"#d8576b\"], [0.6666666666666666, \"#ed7953\"], [0.7777777777777778, \"#fb9f3a\"], [0.8888888888888888, \"#fdca26\"], [1.0, \"#f0f921\"]]}, \"geo\": {\"center\": {}, \"domain\": {\"x\": [0.0, 1.0], \"y\": [0.0, 1.0]}}, \"legend\": {\"tracegroupgap\": 0}, \"margin\": {\"t\": 60}, \"template\": {\"data\": {\"bar\": [{\"error_x\": {\"color\": \"#2a3f5f\"}, \"error_y\": {\"color\": \"#2a3f5f\"}, \"marker\": {\"line\": {\"color\": \"#E5ECF6\", \"width\": 0.5}}, \"type\": \"bar\"}], \"barpolar\": [{\"marker\": {\"line\": {\"color\": \"#E5ECF6\", \"width\": 0.5}}, \"type\": \"barpolar\"}], \"carpet\": [{\"aaxis\": {\"endlinecolor\": \"#2a3f5f\", \"gridcolor\": \"white\", \"linecolor\": \"white\", \"minorgridcolor\": \"white\", \"startlinecolor\": \"#2a3f5f\"}, \"baxis\": {\"endlinecolor\": \"#2a3f5f\", \"gridcolor\": \"white\", \"linecolor\": \"white\", \"minorgridcolor\": \"white\", \"startlinecolor\": \"#2a3f5f\"}, \"type\": \"carpet\"}], \"choropleth\": [{\"colorbar\": {\"outlinewidth\": 0, \"ticks\": \"\"}, \"type\": \"choropleth\"}], \"contour\": [{\"colorbar\": {\"outlinewidth\": 0, \"ticks\": \"\"}, \"colorscale\": [[0.0, \"#0d0887\"], [0.1111111111111111, \"#46039f\"], [0.2222222222222222, \"#7201a8\"], [0.3333333333333333, \"#9c179e\"], [0.4444444444444444, \"#bd3786\"], [0.5555555555555556, \"#d8576b\"], [0.6666666666666666, \"#ed7953\"], [0.7777777777777778, \"#fb9f3a\"], [0.8888888888888888, \"#fdca26\"], [1.0, \"#f0f921\"]], \"type\": \"contour\"}], \"contourcarpet\": [{\"colorbar\": {\"outlinewidth\": 0, \"ticks\": \"\"}, \"type\": \"contourcarpet\"}], \"heatmap\": [{\"colorbar\": {\"outlinewidth\": 0, \"ticks\": \"\"}, \"colorscale\": [[0.0, \"#0d0887\"], [0.1111111111111111, \"#46039f\"], [0.2222222222222222, \"#7201a8\"], [0.3333333333333333, \"#9c179e\"], [0.4444444444444444, \"#bd3786\"], [0.5555555555555556, \"#d8576b\"], [0.6666666666666666, \"#ed7953\"], [0.7777777777777778, \"#fb9f3a\"], [0.8888888888888888, \"#fdca26\"], [1.0, \"#f0f921\"]], \"type\": \"heatmap\"}], \"heatmapgl\": [{\"colorbar\": {\"outlinewidth\": 0, \"ticks\": \"\"}, \"colorscale\": [[0.0, \"#0d0887\"], [0.1111111111111111, \"#46039f\"], [0.2222222222222222, \"#7201a8\"], [0.3333333333333333, \"#9c179e\"], [0.4444444444444444, \"#bd3786\"], [0.5555555555555556, \"#d8576b\"], [0.6666666666666666, \"#ed7953\"], [0.7777777777777778, \"#fb9f3a\"], [0.8888888888888888, \"#fdca26\"], [1.0, \"#f0f921\"]], \"type\": \"heatmapgl\"}], \"histogram\": [{\"marker\": {\"colorbar\": {\"outlinewidth\": 0, \"ticks\": \"\"}}, \"type\": \"histogram\"}], \"histogram2d\": [{\"colorbar\": {\"outlinewidth\": 0, \"ticks\": \"\"}, \"colorscale\": [[0.0, \"#0d0887\"], [0.1111111111111111, \"#46039f\"], [0.2222222222222222, \"#7201a8\"], [0.3333333333333333, \"#9c179e\"], [0.4444444444444444, \"#bd3786\"], [0.5555555555555556, \"#d8576b\"], [0.6666666666666666, \"#ed7953\"], [0.7777777777777778, \"#fb9f3a\"], [0.8888888888888888, \"#fdca26\"], [1.0, \"#f0f921\"]], \"type\": \"histogram2d\"}], \"histogram2dcontour\": [{\"colorbar\": {\"outlinewidth\": 0, \"ticks\": \"\"}, \"colorscale\": [[0.0, \"#0d0887\"], [0.1111111111111111, \"#46039f\"], [0.2222222222222222, \"#7201a8\"], [0.3333333333333333, \"#9c179e\"], [0.4444444444444444, \"#bd3786\"], [0.5555555555555556, \"#d8576b\"], [0.6666666666666666, \"#ed7953\"], [0.7777777777777778, \"#fb9f3a\"], [0.8888888888888888, \"#fdca26\"], [1.0, \"#f0f921\"]], \"type\": \"histogram2dcontour\"}], \"mesh3d\": [{\"colorbar\": {\"outlinewidth\": 0, \"ticks\": \"\"}, \"type\": \"mesh3d\"}], \"parcoords\": [{\"line\": {\"colorbar\": {\"outlinewidth\": 0, \"ticks\": \"\"}}, \"type\": \"parcoords\"}], \"pie\": [{\"automargin\": true, \"type\": \"pie\"}], \"scatter\": [{\"marker\": {\"colorbar\": {\"outlinewidth\": 0, \"ticks\": \"\"}}, \"type\": \"scatter\"}], \"scatter3d\": [{\"line\": {\"colorbar\": {\"outlinewidth\": 0, \"ticks\": \"\"}}, \"marker\": {\"colorbar\": {\"outlinewidth\": 0, \"ticks\": \"\"}}, \"type\": \"scatter3d\"}], \"scattercarpet\": [{\"marker\": {\"colorbar\": {\"outlinewidth\": 0, \"ticks\": \"\"}}, \"type\": \"scattercarpet\"}], \"scattergeo\": [{\"marker\": {\"colorbar\": {\"outlinewidth\": 0, \"ticks\": \"\"}}, \"type\": \"scattergeo\"}], \"scattergl\": [{\"marker\": {\"colorbar\": {\"outlinewidth\": 0, \"ticks\": \"\"}}, \"type\": \"scattergl\"}], \"scattermapbox\": [{\"marker\": {\"colorbar\": {\"outlinewidth\": 0, \"ticks\": \"\"}}, \"type\": \"scattermapbox\"}], \"scatterpolar\": [{\"marker\": {\"colorbar\": {\"outlinewidth\": 0, \"ticks\": \"\"}}, \"type\": \"scatterpolar\"}], \"scatterpolargl\": [{\"marker\": {\"colorbar\": {\"outlinewidth\": 0, \"ticks\": \"\"}}, \"type\": \"scatterpolargl\"}], \"scatterternary\": [{\"marker\": {\"colorbar\": {\"outlinewidth\": 0, \"ticks\": \"\"}}, \"type\": \"scatterternary\"}], \"surface\": [{\"colorbar\": {\"outlinewidth\": 0, \"ticks\": \"\"}, \"colorscale\": [[0.0, \"#0d0887\"], [0.1111111111111111, \"#46039f\"], [0.2222222222222222, \"#7201a8\"], [0.3333333333333333, \"#9c179e\"], [0.4444444444444444, \"#bd3786\"], [0.5555555555555556, \"#d8576b\"], [0.6666666666666666, \"#ed7953\"], [0.7777777777777778, \"#fb9f3a\"], [0.8888888888888888, \"#fdca26\"], [1.0, \"#f0f921\"]], \"type\": \"surface\"}], \"table\": [{\"cells\": {\"fill\": {\"color\": \"#EBF0F8\"}, \"line\": {\"color\": \"white\"}}, \"header\": {\"fill\": {\"color\": \"#C8D4E3\"}, \"line\": {\"color\": \"white\"}}, \"type\": \"table\"}]}, \"layout\": {\"annotationdefaults\": {\"arrowcolor\": \"#2a3f5f\", \"arrowhead\": 0, \"arrowwidth\": 1}, \"autotypenumbers\": \"strict\", \"coloraxis\": {\"colorbar\": {\"outlinewidth\": 0, \"ticks\": \"\"}}, \"colorscale\": {\"diverging\": [[0, \"#8e0152\"], [0.1, \"#c51b7d\"], [0.2, \"#de77ae\"], [0.3, \"#f1b6da\"], [0.4, \"#fde0ef\"], [0.5, \"#f7f7f7\"], [0.6, \"#e6f5d0\"], [0.7, \"#b8e186\"], [0.8, \"#7fbc41\"], [0.9, \"#4d9221\"], [1, \"#276419\"]], \"sequential\": [[0.0, \"#0d0887\"], [0.1111111111111111, \"#46039f\"], [0.2222222222222222, \"#7201a8\"], [0.3333333333333333, \"#9c179e\"], [0.4444444444444444, \"#bd3786\"], [0.5555555555555556, \"#d8576b\"], [0.6666666666666666, \"#ed7953\"], [0.7777777777777778, \"#fb9f3a\"], [0.8888888888888888, \"#fdca26\"], [1.0, \"#f0f921\"]], \"sequentialminus\": [[0.0, \"#0d0887\"], [0.1111111111111111, \"#46039f\"], [0.2222222222222222, \"#7201a8\"], [0.3333333333333333, \"#9c179e\"], [0.4444444444444444, \"#bd3786\"], [0.5555555555555556, \"#d8576b\"], [0.6666666666666666, \"#ed7953\"], [0.7777777777777778, \"#fb9f3a\"], [0.8888888888888888, \"#fdca26\"], [1.0, \"#f0f921\"]]}, \"colorway\": [\"#636efa\", \"#EF553B\", \"#00cc96\", \"#ab63fa\", \"#FFA15A\", \"#19d3f3\", \"#FF6692\", \"#B6E880\", \"#FF97FF\", \"#FECB52\"], \"font\": {\"color\": \"#2a3f5f\"}, \"geo\": {\"bgcolor\": \"white\", \"lakecolor\": \"white\", \"landcolor\": \"#E5ECF6\", \"showlakes\": true, \"showland\": true, \"subunitcolor\": \"white\"}, \"hoverlabel\": {\"align\": \"left\"}, \"hovermode\": \"closest\", \"mapbox\": {\"style\": \"light\"}, \"paper_bgcolor\": \"white\", \"plot_bgcolor\": \"#E5ECF6\", \"polar\": {\"angularaxis\": {\"gridcolor\": \"white\", \"linecolor\": \"white\", \"ticks\": \"\"}, \"bgcolor\": \"#E5ECF6\", \"radialaxis\": {\"gridcolor\": \"white\", \"linecolor\": \"white\", \"ticks\": \"\"}}, \"scene\": {\"xaxis\": {\"backgroundcolor\": \"#E5ECF6\", \"gridcolor\": \"white\", \"gridwidth\": 2, \"linecolor\": \"white\", \"showbackground\": true, \"ticks\": \"\", \"zerolinecolor\": \"white\"}, \"yaxis\": {\"backgroundcolor\": \"#E5ECF6\", \"gridcolor\": \"white\", \"gridwidth\": 2, \"linecolor\": \"white\", \"showbackground\": true, \"ticks\": \"\", \"zerolinecolor\": \"white\"}, \"zaxis\": {\"backgroundcolor\": \"#E5ECF6\", \"gridcolor\": \"white\", \"gridwidth\": 2, \"linecolor\": \"white\", \"showbackground\": true, \"ticks\": \"\", \"zerolinecolor\": \"white\"}}, \"shapedefaults\": {\"line\": {\"color\": \"#2a3f5f\"}}, \"ternary\": {\"aaxis\": {\"gridcolor\": \"white\", \"linecolor\": \"white\", \"ticks\": \"\"}, \"baxis\": {\"gridcolor\": \"white\", \"linecolor\": \"white\", \"ticks\": \"\"}, \"bgcolor\": \"#E5ECF6\", \"caxis\": {\"gridcolor\": \"white\", \"linecolor\": \"white\", \"ticks\": \"\"}}, \"title\": {\"x\": 0.05}, \"xaxis\": {\"automargin\": true, \"gridcolor\": \"white\", \"linecolor\": \"white\", \"ticks\": \"\", \"title\": {\"standoff\": 15}, \"zerolinecolor\": \"white\", \"zerolinewidth\": 2}, \"yaxis\": {\"automargin\": true, \"gridcolor\": \"white\", \"linecolor\": \"white\", \"ticks\": \"\", \"title\": {\"standoff\": 15}, \"zerolinecolor\": \"white\", \"zerolinewidth\": 2}}}},                        {\"responsive\": true}                    ).then(function(){\n",
       "                            \n",
       "var gd = document.getElementById('9c35f512-1d25-4bff-8ea0-fd36d55497a7');\n",
       "var x = new MutationObserver(function (mutations, observer) {{\n",
       "        var display = window.getComputedStyle(gd).display;\n",
       "        if (!display || display === 'none') {{\n",
       "            console.log([gd, 'removed!']);\n",
       "            Plotly.purge(gd);\n",
       "            observer.disconnect();\n",
       "        }}\n",
       "}});\n",
       "\n",
       "// Listen for the removal of the full notebook cells\n",
       "var notebookContainer = gd.closest('#notebook-container');\n",
       "if (notebookContainer) {{\n",
       "    x.observe(notebookContainer, {childList: true});\n",
       "}}\n",
       "\n",
       "// Listen for the clearing of the current output cell\n",
       "var outputEl = gd.closest('.output');\n",
       "if (outputEl) {{\n",
       "    x.observe(outputEl, {childList: true});\n",
       "}}\n",
       "\n",
       "                        })                };                });            </script>        </div>"
      ]
     },
     "metadata": {},
     "output_type": "display_data"
    }
   ],
   "source": [
    "import plotly.express as px\n",
    "from data import countries_df\n",
    "\n",
    "fig = px.scatter_geo(countries_df, color=\"Confirmed\", locations=\"Country_Region\", locationmode=\"country names\")\n",
    "fig.show()"
   ]
  },
  {
   "cell_type": "code",
   "execution_count": null,
   "id": "further-geneva",
   "metadata": {},
   "outputs": [],
   "source": []
  }
 ],
 "metadata": {
  "kernelspec": {
   "display_name": "Python 3",
   "language": "python",
   "name": "python3"
  },
  "language_info": {
   "codemirror_mode": {
    "name": "ipython",
    "version": 3
   },
   "file_extension": ".py",
   "mimetype": "text/x-python",
   "name": "python",
   "nbconvert_exporter": "python",
   "pygments_lexer": "ipython3",
   "version": "3.9.1"
  }
 },
 "nbformat": 4,
 "nbformat_minor": 5
}
